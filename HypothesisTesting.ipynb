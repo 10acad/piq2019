{
 "cells": [
  {
   "cell_type": "markdown",
   "metadata": {},
   "source": [
    "### Project Hypothesis Testing:   “Free Trial” Screener\n",
    "----\n",
    "**Project description**: \n",
    "\n",
    "Udacity is an online learning system (https://www.udacity.com/).  At the time of the experiment, Udacity courses had two options on the course overview page: \"start free trial\", and \"access course materials\". If the student clicks \"start free trial\", they will be asked to enter their credit card information, and then they will be enrolled in a free trial for the paid version of the course. If the student clicks \"access course materials\", they will be able to view the videos and take the quizzes for free, but they will not receive coaching support or a verified certificate, and they will not submit their final project for feedback.\n",
    "\n",
    "Udacity tested a change where if the student clicked \"start free trial\", they were asked how much time they had available to devote to the course. If the student indicated 5 or more hours per week, they would be taken through the checkout process as usual. If they indicated fewer than 5 hours per week, a message will appear indicating that Udacity courses usually require a greater time commitment for successful completion, and suggesting that the student might like to access the course materials for free.\n",
    "\n",
    "The hypothesis was that this might set clearer expectations for students upfront, thus reducing the number of frustrated students who left the free trial because they didn't have enough time—without significantly reducing the number of students to continue past the free trial and eventually complete the course. If this hypothesis held true, Udacity could improve the overall student experience and improve coaches' capacity to support students who are likely to complete the course.\n",
    "\n",
    "For more reference on this problem refer: https://docs.google.com/document/u/1/d/1aCquhIqsUApgsxQ8-SQBAigFDcfWVVohLEXcV6jWbdI/pub?embedded=True\n",
    "\n",
    "\n",
    "#### Data description :\n",
    "Columns:\n",
    "- Pageviews: Number of unique cookies to view the course overview page that day. \n",
    "- Clicks: Number of unique cookies to click the course overview page that day. \n",
    "- Enrollments: Number of user-ids to enroll in the free trial that day. \n",
    "- Payments: Number of user-ids who enrolled on that day to remain enrolled for 14 days and thus make a payment. (Note that the date for this column is the start date, that is, the date of enrollment, rather than the date of the payment. The payment happened 14 days later. Because of this, the enrollments and payments are tracked for 14 fewer days than the other columns.)\n"
   ]
  },
  {
   "cell_type": "markdown",
   "metadata": {},
   "source": [
    "---\n",
    "### Instructions\n",
    "Based on the scenario outlined above and the data associated with this project, you are required to perform A/B testing and Machine Learning analysis. You must also answer the quiz questions linked with this project. For convenience, the quiz questions are copied below. \n",
    "\n",
    "**Deadline:** Please complete the quiz, and submit all the data analysis work you carried out in this jupiter notebook via Github - see instructions below - at the very latest by 23h59 on Thursday 8 August 2019. \n",
    "\n",
    "**Why this project?**\n",
    "\n",
    "\n",
    "This project is designed with the two main points in mind\n",
    "\n",
    "\n",
    "We need to understand your proficiency in the important data science concepts (statistical, algorithmic, and others) and hard skills (advanced programming in python or R)\n",
    "To give you an additional opportunity to add a few more data science project experience into your portfolio.  \n",
    "\n",
    "\n",
    "So please put maximum effort to demonstrate your skill in this project. Answer the quiz with diligence, and perform the data analysis as best as you can. \n",
    "\n",
    "**Detailed instruction**:\n",
    "\n",
    "- Git Fork/Clone the project jupyter notebooks and the corresponding data from this github: https://github.com/10acad/piq2019\n",
    "The jupyter notebook “HypothesisTesting.ipynb”, which contains this instruction in the first markdown cell, is for this project.\n",
    "- The “data/UdacityABtesting.xlsx” excel file is the data for this project\n",
    "- Following the recommended tasks below, perform A/B testing and Machine learning analysis on the data while at the same time answering the questions listed below.\n",
    "- At the minimum you must perform an analysis that will allow you to answer the questions, visualize features, and produce a model to draw a reasonable conclusion. The more detailed your data analysis and clear answers to the quiz, the better it will be for your selection as 10 Academy Fellow as well as you stand a better chance to get a job interviews. Note that these notebooks and your other work at Github are critical for your Data Science Career - as they are the evidence to your skills. So even after submitting whatever you managed to do by the deadline, keep improving your model and explanations.  \n",
    "- PLEASE SUBMIT WHATEVER YOU MANAGED TO DO BEFORE THE DEADLINE. WE KNOW THE TIME IS SHORT, AND IT IS FOR A PURPOSE. \n",
    "- Upload your jupyter notebook to your Github public repository. If you have forked Github link above, which is what we recommend, then you just have to do the following \n",
    "    - git add -u *  #add all modified files tracked by git \n",
    "    - git commit -m ‘submit’ \n",
    "    - git push\n",
    "- Copy the Github link to your version of “HypothesisTesting.ipynb” and paste it here (the 10 Academy quiz page). If you prefer, there is also a possibility to directly upload your jupyter notebook.\n",
    "- If you have any questions or confusions regarding what you are expected to do in this project or how to submit, please contact community@10academy.org well before the deadline.\n"
   ]
  },
  {
   "cell_type": "markdown",
   "metadata": {},
   "source": [
    "### Objective 1:  A/B testing \n",
    "\n",
    "**Quiz**:\n",
    "- From the project description above, what is the metrics the A/B testing intends to improve? Note that in many cases A/B testing is measured using the companies Key Performance Indicators such as page visits, customer satisfaction, etc.    \n",
    "- How many days of observation are there in the control and experimental group?\n",
    "- How many missing values are there in each of the control and experiments data?\n",
    "- The experiment for this project involves displaying a screen if a user clicks a particular button. What is the underlying statistical probability distribution for a data collected from this type of experiments? Why?\n",
    "\n",
    "\n",
    "- Assessment of the statistical significance of an A/B test is dependent on what kind of probability distribution the experimental data follows. Given your answer above, which statistical tests are appropriate to use for this project? \n",
    "\n",
    "- In frequentist analysis, mostly used for A/B testing, we use p-values to measure the significance of the experimental feature over the null hypothesis (the hypothesis that the new feature does not have an impact). How are p-values computed? What information do p-values provide? Are you familiar with type-I and type-II errors? Can you comment to which error types p-values are related? \n",
    "\n",
    "\n",
    "- Are the number of data points in the experiment enough to make a reasonable judgement or should Udacity run a longer experiment? Remember that running the experiment longer may be costly for many reasons, so you should always optimize the number of samples to make a statistically sound decision. \n",
    "- What does your A/B testing analysis tells you? Does the experimental feature improve Enrollment, the target variable? \n",
    "- Bonus points: Briefly describe your understanding of Bayesian A/B testing?\n",
    "\n",
    "**Data analysis tasks**:\n",
    "Tasks you need to perform here to demonstrate your understanding:\n",
    " * Plan your analysis steps  - write down your plan in the Jupyter markup cell \n",
    " * Load and explore the control and experiment data tables\n",
    " * Visualize some of the features to understand patterns and relationships \n",
    " * Perform A/B testing analysis pay attention to the following details\n",
    "Missing values\n",
    "Errors on your final result\n"
   ]
  },
  {
   "cell_type": "markdown",
   "metadata": {},
   "source": [
    "### Objective 2: Machine Learning\n",
    "\n",
    "**Quiz**:\n",
    "- Which data features are relevant to predicting the target variable? \n",
    "- Explain what the difference is between using A/B testing to test a hypothesis (in this case showing a message window) vs using - Machine learning to learn the viability of the same effect?  \n",
    "- Understand why Machine Learning could be a better approach for performing A/B Testing versus traditional statistical inference (e.g. z-score, t-test)\n",
    "- Explain the purpose of training using k-fold cross validation instead of using the whole data to train the ML models?\n",
    "- Does the \"Experiment\" column prove to be relevant to predicting Enrollment? What does this tell you? Compare this with the A/B testing you did earlier. \n",
    "- What information do you gain using the Machine Learning approach that you couldn’t obtain using A/B testing?\n",
    "\n",
    "**Data analysis tasks**:\n",
    "- Combine the control_tbl and experiment_tbl, adding an “id” column indicating if the data was part of the experiment or not\n",
    "- Add a “row_id” column to help for tracking which rows are selected for training and testing in the modeling section\n",
    "- Create a “Day of Week” feature from the “Date” column\n",
    "- Drop the “Date” column and the “Payments” column\n",
    "- Handle the missing data (NA) by removing these rows.\n",
    "- Shuffle the rows to mix the data up for learning\n",
    "- Using the “Enrollments” columns as target variable, train a machine learning model using 5-fold cross validation the following 3 different algorithms:\n",
    "    - Linear Regression\n",
    "    - Decision Trees\n",
    "    - XGBoost\n",
    "- Calculate the Root Mean Square Error Mean Absolute Error (MAE), Root mean squared error (RMSE)  errors of the model using the test data. See <a href=https://medium.com/human-in-a-machine-world/mae-and-rmse-which-metric-is-better-e60ac3bde13d> here </a> for reference on these metrics.\n",
    "- Compute feature importance - what’s driving the model? Which parameters are important predictors for the difference ML models? What contributes to the goal of gaining Enrollments?\n",
    "- Discuss your results - draw some conclusions. For example how is the Experiment=0 or 1 variable related to the Enrollment prediction? Hint: think of positive and negative correlations. \n",
    "- Explain what information you gain using the Machine Learning approach that you couldn’t obtain using A/B testing?\n",
    "- Make a recommendation on what Udacity should do?\n",
    "- Comment on what will improve your model.\n",
    "- Comment on the challenges you encountered."
   ]
  },
  {
   "cell_type": "code",
   "execution_count": null,
   "metadata": {
    "collapsed": true
   },
   "outputs": [],
   "source": []
  }
 ],
 "metadata": {
  "hide_input": false,
  "kernelspec": {
   "display_name": "Python [conda env:pydash]",
   "language": "python",
   "name": "conda-env-pydash-py"
  },
  "language_info": {
   "codemirror_mode": {
    "name": "ipython",
    "version": 3
   },
   "file_extension": ".py",
   "mimetype": "text/x-python",
   "name": "python",
   "nbconvert_exporter": "python",
   "pygments_lexer": "ipython3",
   "version": "3.7.3"
  },
  "latex_envs": {
   "bibliofile": "biblio.bib",
   "cite_by": "apalike",
   "current_citInitial": 1,
   "eqLabelWithNumbers": true,
   "eqNumInitial": 0
  }
 },
 "nbformat": 4,
 "nbformat_minor": 2
}
